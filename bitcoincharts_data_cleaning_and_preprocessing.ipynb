{
 "cells": [
  {
   "cell_type": "code",
   "execution_count": 1,
   "metadata": {},
   "outputs": [],
   "source": [
    "import pandas as pd\n",
    "import numpy as np\n",
    "import pickle\n",
    "np.random.seed(1234)"
   ]
  },
  {
   "cell_type": "code",
   "execution_count": 2,
   "metadata": {},
   "outputs": [],
   "source": [
    "# Read in dat\n",
    "df = pd.read_csv('D:/bitfinexUSD.csv', names=['epoch', 'price', 'volume'])\n",
    "df['datetime'] = pd.to_datetime(df['epoch'],unit='s')\n",
    "df = df.drop('epoch', axis=1) # axis=1 means columns\n",
    "df = df[['datetime','price','volume']]"
   ]
  },
  {
   "cell_type": "code",
   "execution_count": 3,
   "metadata": {},
   "outputs": [
    {
     "name": "stdout",
     "output_type": "stream",
     "text": [
      "                      price     volume\n",
      "datetime                              \n",
      "2013-03-31 22:07:48   93.25  12.671482\n",
      "2013-03-31 22:07:49   93.30  80.628518\n",
      "2013-03-31 22:08:13  100.00  20.000000\n",
      "2013-03-31 22:08:14  100.00   1.000000\n",
      "2013-03-31 22:08:16  100.00   5.900000\n",
      "                      price    volume\n",
      "datetime                             \n",
      "2016-12-22 12:43:17  853.40  2.431919\n",
      "2016-12-22 12:43:17  853.48  0.077000\n",
      "2016-12-22 12:43:17  853.48  0.118000\n",
      "2016-12-22 12:43:17  853.48  1.500000\n",
      "2016-12-22 12:43:18  853.48  0.119000\n"
     ]
    }
   ],
   "source": [
    "# inspect data\n",
    "df.set_index('datetime', inplace=True)\n",
    "print(df.head())\n",
    "print(df.tail())"
   ]
  },
  {
   "cell_type": "code",
   "execution_count": 4,
   "metadata": {},
   "outputs": [
    {
     "name": "stdout",
     "output_type": "stream",
     "text": [
      "                       open    high     low   close\n",
      "datetime                                           \n",
      "2013-03-31 22:07:00   93.25   93.30   93.25   93.30\n",
      "2013-03-31 22:08:00  100.00  100.00  100.00  100.00\n",
      "2013-03-31 22:09:00   93.30   93.30   93.30   93.30\n",
      "2013-03-31 22:10:00     NaN     NaN     NaN     NaN\n",
      "2013-03-31 22:11:00   93.35   93.47   93.35   93.47\n",
      "                        volume\n",
      "datetime                      \n",
      "2013-03-31 22:07:00  93.300000\n",
      "2013-03-31 22:08:00  93.300000\n",
      "2013-03-31 22:09:00  33.676862\n",
      "2013-03-31 22:10:00        NaN\n",
      "2013-03-31 22:11:00  20.000000\n"
     ]
    }
   ],
   "source": [
    "df_ohlc = df['price'].resample('1Min').ohlc()\n",
    "print(df_ohlc.head())\n",
    "df_volume = df['volume'].resample('1Min').sum().to_frame()\n",
    "print(df_volume.head())"
   ]
  },
  {
   "cell_type": "code",
   "execution_count": 5,
   "metadata": {},
   "outputs": [],
   "source": [
    "df = df_ohlc.join(df_volume)"
   ]
  },
  {
   "cell_type": "code",
   "execution_count": 6,
   "metadata": {},
   "outputs": [],
   "source": [
    "with open('D:/bitfinexUSD_ohlc.pickle','wb') as handle:\n",
    "    pickle.dump(df.values.tolist(),handle)"
   ]
  },
  {
   "cell_type": "code",
   "execution_count": null,
   "metadata": {
    "collapsed": true
   },
   "outputs": [],
   "source": []
  },
  {
   "cell_type": "code",
   "execution_count": null,
   "metadata": {
    "collapsed": true
   },
   "outputs": [],
   "source": []
  },
  {
   "cell_type": "code",
   "execution_count": null,
   "metadata": {
    "collapsed": true
   },
   "outputs": [],
   "source": []
  },
  {
   "cell_type": "code",
   "execution_count": null,
   "metadata": {
    "collapsed": true
   },
   "outputs": [],
   "source": []
  },
  {
   "cell_type": "code",
   "execution_count": null,
   "metadata": {
    "collapsed": true
   },
   "outputs": [],
   "source": []
  },
  {
   "cell_type": "code",
   "execution_count": null,
   "metadata": {
    "collapsed": true
   },
   "outputs": [],
   "source": []
  }
 ],
 "metadata": {
  "kernelspec": {
   "display_name": "Python 3",
   "language": "python",
   "name": "python3"
  },
  "language_info": {
   "codemirror_mode": {
    "name": "ipython",
    "version": 3
   },
   "file_extension": ".py",
   "mimetype": "text/x-python",
   "name": "python",
   "nbconvert_exporter": "python",
   "pygments_lexer": "ipython3",
   "version": "3.6.3"
  }
 },
 "nbformat": 4,
 "nbformat_minor": 2
}
