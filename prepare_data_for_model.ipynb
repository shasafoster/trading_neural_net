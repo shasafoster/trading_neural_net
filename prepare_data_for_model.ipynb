{
 "cells": [
  {
   "cell_type": "code",
   "execution_count": 1,
   "metadata": {
    "collapsed": true
   },
   "outputs": [],
   "source": [
    "import numpy as np\n",
    "import time\n",
    "import csv\n",
    "import pickle"
   ]
  },
  {
   "cell_type": "code",
   "execution_count": 2,
   "metadata": {
    "collapsed": true
   },
   "outputs": [],
   "source": [
    "# Release memory when possible due to large list sizes\n",
    "def release_list(a):\n",
    "   del a[:]\n",
    "   del a"
   ]
  },
  {
   "cell_type": "code",
   "execution_count": 3,
   "metadata": {
    "collapsed": true
   },
   "outputs": [],
   "source": [
    "def prepare_dataset(path_to_dataset, sequence_length, max_values):\n",
    "    \n",
    "    # Read in data set from csv\n",
    "    # Columns: DatTime, Open, High, Low, Close, Volume for 1 minute intervals\n",
    "    with open(path_to_dataset) as f:\n",
    "        reader = csv.reader(f, delimiter=\",\")\n",
    "        data = []\n",
    "        nb_of_values = 0\n",
    "        for line in reader:\n",
    "            try:\n",
    "                data.append(line)\n",
    "                nb_of_values += 1\n",
    "            except ValueError:\n",
    "                pass\n",
    "            if max_values is not None and nb_of_values > max_values:\n",
    "                break\n",
    "    \n",
    "    # Remove DateTime, convert from string to float\n",
    "    data_ll = []\n",
    "    for i in range(1,len(data)):\n",
    "        data_ll.append([float(v) for j,v in enumerate(data[i]) if j > 0])\n",
    "    release_list(data) \n",
    "    \n",
    "    # Create the list of sliding window sequences \n",
    "    result = []\n",
    "    for index in range(len(data_ll) - sequence_length):\n",
    "        result.append(data_ll[index: index + sequence_length])\n",
    "    release_list(data_ll)\n",
    "    result = np.array(result, dtype=np.float32) \n",
    "    \n",
    "    # Set mean to 0\n",
    "    # mean is an  int due to np.array is dtype=np.int16\n",
    "    open_mean = result[:,:,0].mean()\n",
    "    close_mean = result[:,:,1].mean()\n",
    "    high_mean = result[:,:,2].mean()\n",
    "    low_mean = result[:,:,3].mean()\n",
    "    volume_mean = result[:,:,4].mean()\n",
    "    result[:,:,0] -= open_mean\n",
    "    result[:,:,1] -= close_mean\n",
    "    result[:,:,2] -= high_mean\n",
    "    result[:,:,3] -= low_mean\n",
    "    result[:,:,4] -= volume_mean\n",
    "    print('----------')\n",
    "    print('Open mean: ' + str(result[:,:,0].mean()))\n",
    "    print('High mean: ' + str(result[:,:,1].mean()))\n",
    "    print('Low mean: ' + str(result[:,:,2].mean()))\n",
    "    print('Close mean: ' + str(result[:,:,3].mean()))\n",
    "    print('Volume mean: ' + str(result[:,:,4].mean()))\n",
    "    print('----------')\n",
    "    \n",
    "    # Shuffle training texamples\n",
    "    # -- training occurs in no particular order\n",
    "    # -- the distrubtion is uniform (for the batch calculation of the loss) \n",
    "    # -- not test set so that we can visualize our predictions with real signals.\n",
    "    # 90% training, 10% testing\n",
    "    row = int(round(0.9 * result.shape[0]))\n",
    "    train = result[:row, :]\n",
    "    np.random.shuffle(train)\n",
    "    X_train = train[:, :-1] \n",
    "    y_train = train[:, -1, -2]  # want to predict the close in 1 minutes time\n",
    "    X_test = result[row:, :-1]\n",
    "    y_test = result[row:, -1, -2]  # want to predict the close in 1 minutes time\n",
    "    \n",
    "    print('----------')\n",
    "    print('X_train shape: ' + str(X_train.shape))\n",
    "    print('X_test shape: ' + str(X_test.shape))\n",
    "    print('Y_train shape:' + str(y_train.shape))\n",
    "    print('Y_test shape: ' + str(y_test.shape))\n",
    "    print('----------')\n",
    "    \n",
    "    print('----------')\n",
    "    print('Data, first sequence, \"sequence length\" minute, ohlc+v: ' + str(result[0][-1][:]))\n",
    "    print('X_train first sequence, \"sequence length - 1\" minute, ohlc+v: ' + str(X_train[0][-1][:]))\n",
    "    print('y_train first sequence, close at \"sequence length\" minute :' + str(y_train[0]))\n",
    "    print('----------')\n",
    "    \n",
    "    return [X_train, y_train, X_test, y_test]"
   ]
  },
  {
   "cell_type": "code",
   "execution_count": null,
   "metadata": {
    "collapsed": true
   },
   "outputs": [],
   "source": [
    "# Only variables you should need to  change\n",
    "path_to_dataset = 'D:/bitfinexUSD_ohlc.csv'  # path to date, ohlc, volume csv file\n",
    "filename = 'D:/bitfinexUSD_ready.pk'  # name of file to pickle model ready data to\n",
    "sequence_length = 50  # size of sliding window\n",
    "max_values = 500000  # maximum number number of values (minutes) to use"
   ]
  },
  {
   "cell_type": "code",
   "execution_count": null,
   "metadata": {},
   "outputs": [
    {
     "name": "stdout",
     "output_type": "stream",
     "text": [
      "----------\n",
      "Open mean: -0.000218632\n",
      "High mean: -9.0254e-05\n",
      "Low mean: 0.000625668\n",
      "Close mean: -0.000237094\n",
      "Volume mean: -1.96807e-05\n",
      "----------\n",
      "----------\n",
      "X_train shape: (449955, 49, 5)\n",
      "X_test shape: (49995, 49, 5)\n",
      "Y_train shape:(449955,)\n",
      "Y_test shape: (49995,)\n",
      "----------\n",
      "----------\n",
      "Data, first sequence, \"sequence length\" minute, ohlc+v: [ 172.01077271  171.56350708  172.46130371  172.01812744  -17.13773537]\n",
      "X_train first sequence, \"sequence length - 1\" minute, ohlc+v: [ 172.03079224  171.59353638  172.48132324  172.04815674  -17.09383583]\n",
      "y_train first sequence, close at \"sequence length\" minute :172.018\n",
      "----------\n"
     ]
    }
   ],
   "source": [
    "# data = [X_train, y_train, X_test, y_test]\n",
    "data = prepare_dataset(path_to_dataset, sequence_length, max_values)\n",
    "\n",
    "with open(filename, 'wb') as handle:\n",
    "    pickle.dump(data, handle)"
   ]
  },
  {
   "cell_type": "code",
   "execution_count": null,
   "metadata": {
    "collapsed": true
   },
   "outputs": [],
   "source": []
  }
 ],
 "metadata": {
  "kernelspec": {
   "display_name": "tensorflow",
   "language": "python",
   "name": "tensorflow"
  },
  "language_info": {
   "codemirror_mode": {
    "name": "ipython",
    "version": 3
   },
   "file_extension": ".py",
   "mimetype": "text/x-python",
   "name": "python",
   "nbconvert_exporter": "python",
   "pygments_lexer": "ipython3",
   "version": "3.5.4"
  }
 },
 "nbformat": 4,
 "nbformat_minor": 2
}
