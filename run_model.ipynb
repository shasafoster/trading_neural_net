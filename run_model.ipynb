{
 "cells": [
  {
   "cell_type": "code",
   "execution_count": 1,
   "metadata": {},
   "outputs": [
    {
     "name": "stderr",
     "output_type": "stream",
     "text": [
      "Using TensorFlow backend.\n"
     ]
    }
   ],
   "source": [
    "import matplotlib.pyplot as plt\n",
    "import numpy as np\n",
    "import time\n",
    "import pickle\n",
    "from keras.models import Sequential\n",
    "from keras.layers.core import Dense, Activation, Dropout\n",
    "from keras.layers.recurrent import LSTM\n",
    "np.random.seed(1234)"
   ]
  },
  {
   "cell_type": "code",
   "execution_count": 2,
   "metadata": {
    "collapsed": true
   },
   "outputs": [],
   "source": [
    "def build_model(layers, X_variables):\n",
    "        \n",
    "    # Initialise model\n",
    "    model = Sequential()\n",
    "    \n",
    "    # Add the first lSTM layer\n",
    "    model.add(LSTM(\n",
    "            layers[1],\n",
    "            input_shape=(None, 5),\n",
    "            return_sequences=True))\n",
    "    model.add(Dropout(0.2))\n",
    "    \n",
    "    # Add the second lSTM layer \n",
    "    model.add(LSTM(\n",
    "            layers[2],\n",
    "            return_sequences=False))\n",
    "    model.add(Dropout(0.2))\n",
    "    \n",
    "    # The last layer we use is a Dense layer ( = feedforward). \n",
    "    # Since we are doing a regression, its activation is linear.\n",
    "    model.add(Dense(\n",
    "            layers[3]))\n",
    "    model.add(Activation(\"linear\"))\n",
    "    \n",
    "    # Lastly, we compile the model using a Mean Square Error \n",
    "    # (again, it's standard for regression) and the RMSprop optimizer. \n",
    "    # See the mnist example to learn more on rmsprop.\n",
    "    start = time.time()\n",
    "    model.compile(loss=\"mse\", optimizer=\"rmsprop\")\n",
    "    print(\"Compilation Time : \", time.time() - start)\n",
    "    return model"
   ]
  },
  {
   "cell_type": "code",
   "execution_count": 3,
   "metadata": {
    "collapsed": true
   },
   "outputs": [],
   "source": [
    "def run_network(model, data, sequence_length):\n",
    "    epochs = 1\n",
    "    ratio = 0.5\n",
    "    start_time = time.time()\n",
    "    \n",
    "    X_train, y_train, X_test, y_test = data\n",
    "    \n",
    "    print('\\nData Loaded. Compiling...\\n')\n",
    "        \n",
    "    try:\n",
    "        model.fit(\n",
    "            X_train, y_train,\n",
    "            batch_size=512, epochs=epochs, validation_split=0.05)\n",
    "        predicted = model.predict(X_test)\n",
    "        predicted = np.reshape(predicted, (predicted.size,))\n",
    "    except KeyboardInterrupt:\n",
    "        print('Training duration (s) : ', time.time() - global_start_time)\n",
    "        return model, y_test, 0\n",
    "    \n",
    "    try:\n",
    "        fig = plt.figure()\n",
    "        ax = fig.add_subplot()\n",
    "        ax.plot(y_test[:100, 0])\n",
    "        plt.plot(predicted[:100, 0])\n",
    "        plt.show()\n",
    "    except Exception as e:\n",
    "        print('Error: ' + str(e))\n",
    "    print('Training duration (s) : ', time.time() - start_time)\n",
    "    return model, X_test, y_test, predicted"
   ]
  },
  {
   "cell_type": "markdown",
   "metadata": {},
   "source": [
    "The only parameters you should need to change"
   ]
  },
  {
   "cell_type": "code",
   "execution_count": 4,
   "metadata": {
    "collapsed": true
   },
   "outputs": [],
   "source": [
    "# path to pickled file of model ready dataset: data = [X_train, y_train, X_test, y_test]\n",
    "path_to_dataset = 'D:/bitfinexUSD_ready.pk'\n",
    "# Length of sliding window\n",
    "sequence_length = 50\n",
    "# Network has a 5D input, two hidden layers of size 50, 100 and a 1D output layer\n",
    "layers = [5, 50, 100, 1] \n",
    "# Number of variables per timestep\n",
    "X_variables = 5  # OHLC, volume"
   ]
  },
  {
   "cell_type": "code",
   "execution_count": 5,
   "metadata": {
    "collapsed": true
   },
   "outputs": [],
   "source": [
    "with open(path_to_dataset, 'rb') as handle:\n",
    "    [X_train, y_train, X_test, y_test] = pickle.load(handle)"
   ]
  },
  {
   "cell_type": "code",
   "execution_count": 6,
   "metadata": {},
   "outputs": [
    {
     "name": "stdout",
     "output_type": "stream",
     "text": [
      "(449955, 49, 5)\n",
      "(449955,)\n",
      "(49995, 49, 5)\n",
      "(49995,)\n"
     ]
    }
   ],
   "source": [
    "print(X_train.shape)  # training sequences, sliding window length, number of input variables (ohlc  volume)\n",
    "print(y_train.shape)  # training sequences, predicted variable (the close of the next time period)\n",
    "print(X_test.shape)  # test sequences, sliding window length, number of input variables (ohlc  volume)\n",
    "print(y_test.shape)  # test sequences, predicted variable (the close of the next time period)"
   ]
  },
  {
   "cell_type": "code",
   "execution_count": 7,
   "metadata": {},
   "outputs": [
    {
     "name": "stdout",
     "output_type": "stream",
     "text": [
      "Compilation Time :  0.05338621139526367\n"
     ]
    }
   ],
   "source": [
    "model = build_model(layers, X_variables)"
   ]
  },
  {
   "cell_type": "code",
   "execution_count": 8,
   "metadata": {},
   "outputs": [
    {
     "name": "stdout",
     "output_type": "stream",
     "text": [
      "\n",
      "Data Loaded. Compiling...\n",
      "\n",
      "Train on 427457 samples, validate on 22498 samples\n",
      "Epoch 1/1\n",
      "427457/427457 [==============================] - 625s 1ms/step - loss: 37903.0270 - val_loss: 26968.4725\n",
      "Error: 'NoneType' object has no attribute 'plot'\n",
      "Training duration (s) :  664.4156634807587\n"
     ]
    }
   ],
   "source": [
    "model, X_test, y_test, predicted = \\\n",
    "    run_network(model, [X_train, y_train, X_test, y_test], sequence_length)"
   ]
  },
  {
   "cell_type": "code",
   "execution_count": 9,
   "metadata": {
    "collapsed": true
   },
   "outputs": [],
   "source": [
    "previous_actual_close = X_test[:,-1,-2]\n",
    "actual_close = y_test\n",
    "predicted_close = predicted"
   ]
  },
  {
   "cell_type": "code",
   "execution_count": 10,
   "metadata": {},
   "outputs": [
    {
     "name": "stdout",
     "output_type": "stream",
     "text": [
      "    t0            t1           t2           t3\n",
      "[-82.34185791 -81.86184692 -81.87185669]\n",
      "             [-81.86184692 -81.87185669 -81.90185547]\n",
      "             [-88.70996094 -88.7663269  -88.76239777]\n"
     ]
    }
   ],
   "source": [
    "assert(previous_actual_close.shape == actual_close.shape == predicted_close.shape)\n",
    "print('    t0            t1           t2           t3')\n",
    "print(previous_actual_close[:3])\n",
    "print('            ', actual_close[:3])\n",
    "print('            ', predicted_close[:3])"
   ]
  },
  {
   "cell_type": "code",
   "execution_count": null,
   "metadata": {
    "collapsed": true
   },
   "outputs": [],
   "source": []
  }
 ],
 "metadata": {
  "kernelspec": {
   "display_name": "tensorflow",
   "language": "python",
   "name": "tensorflow"
  },
  "language_info": {
   "codemirror_mode": {
    "name": "ipython",
    "version": 3
   },
   "file_extension": ".py",
   "mimetype": "text/x-python",
   "name": "python",
   "nbconvert_exporter": "python",
   "pygments_lexer": "ipython3",
   "version": "3.5.4"
  }
 },
 "nbformat": 4,
 "nbformat_minor": 2
}
